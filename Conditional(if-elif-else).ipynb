{
 "cells": [
  {
   "cell_type": "markdown",
   "id": "dcb51dd8",
   "metadata": {},
   "source": [
    "1. Write a program to check if a given integer is even or odd. \n"
   ]
  },
  {
   "cell_type": "code",
   "execution_count": 22,
   "id": "590d503f",
   "metadata": {},
   "outputs": [
    {
     "name": "stdout",
     "output_type": "stream",
     "text": [
      "odd\n"
     ]
    }
   ],
   "source": [
    "n=int(input())\n",
    "if n%2==0:\n",
    "    print(\"Even\")\n",
    "else:\n",
    "    print(\"odd\")"
   ]
  },
  {
   "cell_type": "markdown",
   "id": "bacc9e6b",
   "metadata": {},
   "source": [
    "Write a program to classify a given number as positive, negative, or zero.\n"
   ]
  },
  {
   "cell_type": "code",
   "execution_count": null,
   "id": "b07ef9f3",
   "metadata": {},
   "outputs": [
    {
     "name": "stdout",
     "output_type": "stream",
     "text": [
      "Zero\n"
     ]
    }
   ],
   "source": [
    "n=int(input())\n",
    "if n<0:\n",
    "    print(\"Negative\")\n",
    "elif n>0:\n",
    "    print(\"Positive\")\n",
    "else:\n",
    "    print(\"Zero\")"
   ]
  },
  {
   "cell_type": "markdown",
   "id": "8c788cf4",
   "metadata": {},
   "source": [
    "Write a program to determine if a given year is a leap year"
   ]
  },
  {
   "cell_type": "code",
   "execution_count": null,
   "id": "cea5a1d1",
   "metadata": {},
   "outputs": [
    {
     "name": "stdout",
     "output_type": "stream",
     "text": [
      "Not a Leap Year\n"
     ]
    }
   ],
   "source": [
    "year=int(input())\n",
    "if (year%4==0 and year%100!=0) or year%400==0:\n",
    "    print(\"Leap Year\")\n",
    "else:\n",
    "    print(\"Not a Leap Year\")"
   ]
  },
  {
   "cell_type": "markdown",
   "id": "35ca9e3d",
   "metadata": {},
   "source": [
    " Write a program to assign grades based on a score: \n",
    "• 90-100: A \n",
    "• 80-89: B \n",
    "• 70-79: C \n",
    "• Below 70: Fail "
   ]
  },
  {
   "cell_type": "code",
   "execution_count": null,
   "id": "531af9b9",
   "metadata": {},
   "outputs": [
    {
     "name": "stdout",
     "output_type": "stream",
     "text": [
      "Invalid Input\n"
     ]
    }
   ],
   "source": [
    "n=int(input())\n",
    "if 90<=n<=100:\n",
    "    print(\"A\")\n",
    "elif 80<=n<=89:\n",
    "    print(\"B\")\n",
    "elif 70<=n<=79:\n",
    "    print(\"C\")\n",
    "elif 70>n>0:\n",
    "    print(\"Fail\")\n",
    "else:\n",
    "    print(\"Invalid Input\")"
   ]
  },
  {
   "cell_type": "markdown",
   "id": "10a06c99",
   "metadata": {},
   "source": [
    "Write a program to find the largest of three given numbers."
   ]
  },
  {
   "cell_type": "code",
   "execution_count": null,
   "id": "5fb0c0ca",
   "metadata": {},
   "outputs": [
    {
     "name": "stdout",
     "output_type": "stream",
     "text": [
      "8\n"
     ]
    }
   ],
   "source": [
    "a,b,c=map(int,input().split())\n",
    "if a>b and a>c:\n",
    "    print(f\"{a}\")\n",
    "elif b>a and b>c:\n",
    "    print(f\"{b}\")\n",
    "elif c>a and c>b:\n",
    "    print(f\"{c}\")"
   ]
  },
  {
   "cell_type": "markdown",
   "id": "2ab7bc94",
   "metadata": {},
   "source": [
    " Write a program to check if a number is divisible by both 3 and 5."
   ]
  },
  {
   "cell_type": "code",
   "execution_count": null,
   "id": "d0a3b741",
   "metadata": {},
   "outputs": [
    {
     "name": "stdout",
     "output_type": "stream",
     "text": [
      "Divisible by both\n"
     ]
    }
   ],
   "source": [
    "n=int(input())\n",
    "if n%3==0 and n%5==0:\n",
    "    print(\"Divisible by both\")\n",
    "else:\n",
    "    print(\"Not divisible by both\")"
   ]
  },
  {
   "cell_type": "markdown",
   "id": "e148f382",
   "metadata": {},
   "source": [
    " Write a program to determine if three sides can form a valid triangle. \n",
    " "
   ]
  },
  {
   "cell_type": "code",
   "execution_count": 24,
   "id": "f65f456f",
   "metadata": {},
   "outputs": [
    {
     "name": "stdout",
     "output_type": "stream",
     "text": [
      "Not a valid triangle\n"
     ]
    }
   ],
   "source": [
    "a,b,c=map(int,input().split())\n",
    "if a+b>c and a+c>b and b+c>a:\n",
    "    print(\"Valid triangle\")\n",
    "else:\n",
    "    print(\"Not a valid triangle\")"
   ]
  },
  {
   "cell_type": "markdown",
   "id": "e4ea8bf6",
   "metadata": {},
   "source": [
    "Write a program to check if a character is a vowel or consonant."
   ]
  },
  {
   "cell_type": "code",
   "execution_count": null,
   "id": "41cbbd27",
   "metadata": {},
   "outputs": [
    {
     "name": "stdout",
     "output_type": "stream",
     "text": [
      "vowel\n"
     ]
    }
   ],
   "source": [
    "n=input().lower()\n",
    "if n=='a' or n=='e' or n=='i' or n=='o' or n=='u':\n",
    "    print(\"vowel\")\n",
    "else:\n",
    "    print(\"consonant\")\n"
   ]
  },
  {
   "cell_type": "code",
   "execution_count": null,
   "id": "635ab95c",
   "metadata": {},
   "outputs": [
    {
     "name": "stdout",
     "output_type": "stream",
     "text": [
      "Consonant\n"
     ]
    }
   ],
   "source": [
    "n=input().lower()\n",
    "vow=\"aeiou\"\n",
    "if n in vow:\n",
    "    print(\"Vowel\")\n",
    "else:\n",
    "    print(\"Consonant\")"
   ]
  },
  {
   "cell_type": "markdown",
   "id": "c70368cb",
   "metadata": {},
   "source": [
    " Write a program to compute the roots of a quadratic equation ax2 + bx + c = 0. "
   ]
  },
  {
   "cell_type": "code",
   "execution_count": null,
   "id": "c2fc9eb4",
   "metadata": {},
   "outputs": [
    {
     "name": "stdout",
     "output_type": "stream",
     "text": [
      "Roots are 2.0 and 1.0\n"
     ]
    }
   ],
   "source": [
    "a,b,c=map(int,input().split())\n",
    "root1= (-b+(b**2-4*a*c)**0.5)//2*a\n",
    "root2= (-b-(b**2-4*a*c)**0.5)//2*a\n",
    "print(f\"Roots are {root1} and {root2}\")"
   ]
  },
  {
   "cell_type": "markdown",
   "id": "379e0d24",
   "metadata": {},
   "source": [
    "Write a program to calculate an employee's bonus based on years of service:\n",
    "\n",
    "• If years of service > 10, the bonus is 15% of the salary.\n",
    "\n",
    "• If years of service is between 5 and 10 (inclusive), the bonus is 10% of the salary. \n",
    "\n",
    "• If years of service < 5, the bonus is 5% of the salary. \n",
    "\n",
    "Use nested conditionals to calculate the bonus. \n"
   ]
  },
  {
   "cell_type": "code",
   "execution_count": null,
   "id": "0f141f6b",
   "metadata": {},
   "outputs": [
    {
     "name": "stdout",
     "output_type": "stream",
     "text": [
      "Bonus: 1500.0\n"
     ]
    }
   ],
   "source": [
    "salary,service=map(int,input().split())\n",
    "if service>10:\n",
    "    print(f\"Bonus:{salary*0.15}\")\n",
    "elif 5<=service<=10:\n",
    "    print(f\"bonus: {salary*0.10}\")\n",
    "elif service<5:\n",
    "    print(f\"Bonus: {salary*0.05}\")"
   ]
  },
  {
   "cell_type": "markdown",
   "id": "3b304832",
   "metadata": {},
   "source": [
    "Write a program to classify a single character input as one of the following:"
   ]
  },
  {
   "cell_type": "code",
   "execution_count": null,
   "id": "4266a281",
   "metadata": {},
   "outputs": [
    {
     "name": "stdout",
     "output_type": "stream",
     "text": [
      "Digit\n"
     ]
    }
   ],
   "source": [
    "n=input()\n",
    "if \"a\"<=n.lower()<=\"z\":\n",
    "    print(\"Alphabet\")\n",
    "elif n.isdigit() and  0<=int(n)<=1000000:\n",
    "    print(\"Digit\")\n",
    "else:\n",
    "    print(\"Special Character\")\n"
   ]
  },
  {
   "cell_type": "code",
   "execution_count": 21,
   "id": "d19dad74",
   "metadata": {},
   "outputs": [
    {
     "name": "stdout",
     "output_type": "stream",
     "text": [
      "Alphabet\n"
     ]
    }
   ],
   "source": [
    "n = input()\n",
    "\n",
    "if n.isalpha():\n",
    "    print(\"Alphabet\")\n",
    "elif n.isdigit():\n",
    "    print(\"Digits\")\n",
    "else:\n",
    "    print(\"Special\")"
   ]
  },
  {
   "cell_type": "markdown",
   "id": "dd206083",
   "metadata": {},
   "source": [
    " Write a program to calculate the electricity bill based on the following rules: \n",
    " "
   ]
  },
  {
   "cell_type": "code",
   "execution_count": null,
   "id": "e973d7a6",
   "metadata": {},
   "outputs": [
    {
     "name": "stdout",
     "output_type": "stream",
     "text": [
      "320.0\n"
     ]
    }
   ],
   "source": [
    "unit= int(input())\n",
    "if unit<=100:\n",
    "    charge=0.5*unit\n",
    "elif 100<unit<=200:\n",
    "    charge=(0.5*100)+(0.75*(unit-100))\n",
    "elif 200<unit<=300:\n",
    "    charge=(0.5*100)+(0.75*100)+(1.20*(unit-200))\n",
    "elif unit>300:\n",
    "    charge=(0.5*100)+(0.75*100)+(1.20*100)+(1.50*(unit-300))\n",
    "else:\n",
    "    print(\"Invalid INput\")\n",
    "print(charge)"
   ]
  },
  {
   "cell_type": "markdown",
   "id": "c5e78614",
   "metadata": {},
   "source": [
    "Program that will decide whether a number is positive or not\n"
   ]
  },
  {
   "cell_type": "code",
   "execution_count": null,
   "id": "9231fb7a",
   "metadata": {},
   "outputs": [
    {
     "name": "stdout",
     "output_type": "stream",
     "text": [
      "Negative\n"
     ]
    }
   ],
   "source": [
    "n=float(input())\n",
    "if n>=0:\n",
    "    print(\"Positive\")\n",
    "else:\n",
    "    print(\"Negative\")"
   ]
  },
  {
   "cell_type": "markdown",
   "id": "1ebbced4",
   "metadata": {},
   "source": [
    "Program that will take a integar of lenght one from the terminal and then display the digit in English"
   ]
  },
  {
   "cell_type": "code",
   "execution_count": null,
   "id": "37f06500",
   "metadata": {},
   "outputs": [
    {
     "name": "stdout",
     "output_type": "stream",
     "text": [
      "five\n"
     ]
    }
   ],
   "source": [
    "n=int(input())\n",
    "digit=[0,1,2,3,4,5,6,7,8,9]\n",
    "word=[\"Zero\",\"One\",\"Two\",\"Three\",\"four\",\"five\",\"six\",\"seven\",\"eight\",\"nine\",\"ten\"]\n",
    "if n in digit:\n",
    "    print(word[n])"
   ]
  },
  {
   "cell_type": "code",
   "execution_count": 25,
   "id": "d398affe",
   "metadata": {},
   "outputs": [
    {
     "name": "stdout",
     "output_type": "stream",
     "text": [
      "Seven\n"
     ]
    }
   ],
   "source": [
    "n =int(input())\n",
    "\n",
    "if n == 0:\n",
    "    print(\"Zero\")\n",
    "if n == 1:\n",
    "    print(\"One\")\n",
    "if n == 2:\n",
    "    print(\"Two\")\n",
    "if n == 3:\n",
    "    print(\"Three\")\n",
    "if n == 4:\n",
    "    print(\"Four\")\n",
    "if n == 5:\n",
    "    print(\"Five\")\n",
    "if n == 6:\n",
    "    print(\"Six\")\n",
    "if n == 7:\n",
    "    print(\"Seven\")\n",
    "if n == 8:\n",
    "    print(\"Eight\")\n",
    "if n == 9:\n",
    "    print(\"Nine\")\n",
    "\n"
   ]
  },
  {
   "cell_type": "markdown",
   "id": "cbfddbdd",
   "metadata": {},
   "source": [
    "Program that will read from the console a random positive nonzero and determine if it is a power of 2\n"
   ]
  },
  {
   "cell_type": "code",
   "execution_count": 20,
   "id": "d8c144bf",
   "metadata": {},
   "outputs": [
    {
     "name": "stdout",
     "output_type": "stream",
     "text": [
      "NO\n"
     ]
    }
   ],
   "source": [
    "n = 1022\n",
    "i = 0\n",
    "\n",
    "while 2**i <= n:\n",
    "    if 2**i == n:\n",
    "        print(\"YES\")\n",
    "        break\n",
    "    i += 1\n",
    "\n",
    "else:\n",
    "    print(\"NO\")"
   ]
  },
  {
   "cell_type": "code",
   "execution_count": 13,
   "id": "42c86939",
   "metadata": {},
   "outputs": [
    {
     "name": "stdout",
     "output_type": "stream",
     "text": [
      "No\n"
     ]
    }
   ],
   "source": [
    "n = int(input(\"Enter a positive number: \"))\n",
    "\n",
    "if n > 0:\n",
    "    if (n & (n - 1)) == 0:\n",
    "        print(\"Yes\")\n",
    "    else:\n",
    "        print(\"No\")\n",
    "else:\n",
    "    print(\"Input must be a positive number\")"
   ]
  },
  {
   "cell_type": "markdown",
   "id": "01daec63",
   "metadata": {},
   "source": [
    "Program that will evaluate simple expressions of the form:\n",
    "                  <number1> <operator> <number2>\n",
    "                  where operators are (+ , -, *, /)\n",
    "                And if the operator is /, then check if <number2> is nonzero or not"
   ]
  },
  {
   "cell_type": "code",
   "execution_count": 26,
   "id": "ca0a23df",
   "metadata": {},
   "outputs": [
    {
     "name": "stdout",
     "output_type": "stream",
     "text": [
      "Addition: 8.0\n"
     ]
    }
   ],
   "source": [
    "num1 = float(input(\"Enter number1: \"))\n",
    "op = input(\"Enter operator (+, -, *, /): \")\n",
    "num2 = float(input(\"Enter number2: \"))\n",
    "\n",
    "if op == \"+\":\n",
    "    print(\"Addition:\", num1 + num2)\n",
    "elif op == \"-\":\n",
    "    print(\"Subtraction:\", num1 - num2)\n",
    "elif op == \"*\":\n",
    "    print(\"Multiplication:\", num1 * num2)\n",
    "elif op == \"/\":\n",
    "    if num2 != 0:\n",
    "        print(\"Division:\", num1 / num2)\n",
    "    else:\n",
    "        print(\"Division: Zero as divisor is not valid!\")\n",
    "else:\n",
    "    print(\"Invalid operator\")"
   ]
  },
  {
   "cell_type": "markdown",
   "id": "780104d3",
   "metadata": {},
   "source": [
    "Program that will read from the console a random number and check if it is a nonzero positive number.\n",
    "If the check is yes, it will determine if the number is a power of 2.\n",
    "If the check fails the program will check for two more cases:\n",
    "\n",
    "If the number is 0, the program will print \"Zero is not a valid input\".\n",
    "\n",
    "Else it will print \"Negative input is not valid\"."
   ]
  },
  {
   "cell_type": "code",
   "execution_count": 27,
   "id": "d34d28aa",
   "metadata": {},
   "outputs": [
    {
     "name": "stdout",
     "output_type": "stream",
     "text": [
      "No\n"
     ]
    }
   ],
   "source": [
    "n = int(input(\"Enter a number: \"))\n",
    "\n",
    "if n > 0:\n",
    "    if (n & (n - 1)) == 0:\n",
    "        print(\"Yes\")\n",
    "    else:\n",
    "        print(\"No\")\n",
    "elif n == 0:\n",
    "    print(\"Zero is not a valid input\")\n",
    "else:\n",
    "    print(\"Negative input is not valid\")"
   ]
  },
  {
   "cell_type": "markdown",
   "id": "e15aa25d",
   "metadata": {},
   "source": [
    "Program that will take two numbers X & Y as inputs and decide whether X is greater than / less than / equal to Y."
   ]
  },
  {
   "cell_type": "code",
   "execution_count": 28,
   "id": "f124a374",
   "metadata": {},
   "outputs": [
    {
     "name": "stdout",
     "output_type": "stream",
     "text": [
      "4 is less than 5\n"
     ]
    }
   ],
   "source": [
    "x = int(input(\"Enter X: \"))\n",
    "y = int(input(\"Enter Y: \"))\n",
    "\n",
    "if x > y:\n",
    "    print(f\"{x} is greater than {y}\")\n",
    "elif x < y:\n",
    "    print(f\"{x} is less than {y}\")\n",
    "else:\n",
    "    print(f\"{x} is equal to {y}\")\n"
   ]
  },
  {
   "cell_type": "markdown",
   "id": "42d7d430",
   "metadata": {},
   "source": [
    "Program that will construct a menu for performing arithmetic operations. The user will give two numbers (a, b) on which the arithmetic operations will be performed and an integer number (1 <= Choice <= 4) as a choice. Choice-1, 2, 3, 4 are for performing addition, subtraction, multiplication, division respectively.\n",
    "\n",
    "If Choice-4 is selected, the program will check if b is nonzero.\n",
    "\n",
    "If the check is true, the program will ask for another choice (1 <= Case <= 2), where Case-1, 2 evaluate quotient and reminder respectively. If the check is false, it will print an error message “Error: Divisor is zero” and halt."
   ]
  },
  {
   "cell_type": "code",
   "execution_count": 11,
   "id": "6ce98a94",
   "metadata": {},
   "outputs": [
    {
     "name": "stdout",
     "output_type": "stream",
     "text": [
      "multiplication:50.0\n"
     ]
    }
   ],
   "source": [
    "a,b=map(float,input().split())\n",
    "choice=int(input())\n",
    "if choice==1:\n",
    "    print(f\"Addition:{a+b}\")\n",
    "elif choice==2:\n",
    "    print(f\"subtraction:{a-b}\")\n",
    "elif choice==3:\n",
    "    print(f\"multiplication:{a*b}\")\n",
    "elif choice==4:\n",
    "    if b==0:\n",
    "        print(\"Error:Divisor is zero\")\n",
    "    else:\n",
    "        case=int(input())\n",
    "        if case==1:\n",
    "            print(f\"Quotient:{a/b}\")\n",
    "        elif case==2:\n",
    "            print(f\"Reminder:{a%b}\")\n",
    "        else:\n",
    "            print(\"Invalid case choice\")\n",
    "\n",
    "else: \n",
    "    print(\"Invalid Choice\")"
   ]
  },
  {
   "cell_type": "markdown",
   "id": "d63ad1dd",
   "metadata": {},
   "source": [
    "A company decides to give an increment to its employees based on their current salary. An employee \n",
    "having a current salary less than 20,000 will get an increase of 15%. If the employee's salary is more than \n",
    "20,000 and less than 50,000, s/he will get an increment of 10%. The employees with a salary between \n",
    "50,0000 and 70,000 will get an increment of 8%; if the current salary is more than 70,000, the salary will \n",
    "be incremented by 5%. Write a program in python to take the current salary as input and calculate the \n",
    "updated salary after the increment. Remember the salary cannot be less than 10,000 and more than \n",
    "200,000. In those cases, you should print an appropriate message. \n"
   ]
  },
  {
   "cell_type": "code",
   "execution_count": 29,
   "id": "aae22cef",
   "metadata": {},
   "outputs": [
    {
     "name": "stdout",
     "output_type": "stream",
     "text": [
      "Updated salary after increment: 50111.6\n"
     ]
    }
   ],
   "source": [
    "salary = float(input(\"Enter current salary: \"))\n",
    "\n",
    "if salary < 10000 or salary > 200000:\n",
    "    print(\"Invalid salary input. Salary must be between 10,000 and 200,000.\")\n",
    "else:\n",
    "    if salary < 20000:\n",
    "        increment = salary * 0.15\n",
    "    elif salary < 50000:\n",
    "        increment = salary * 0.10\n",
    "    elif salary <= 70000:\n",
    "        increment = salary * 0.08\n",
    "    else:\n",
    "        increment = salary * 0.05\n",
    "    \n",
    "    updated_salary = salary + increment\n",
    "    print(\"Updated salary after increment:\", updated_salary)\n"
   ]
  },
  {
   "cell_type": "markdown",
   "id": "6602782c",
   "metadata": {},
   "source": [
    "Write a Python program to simulate a bookstore where customers can buy books with specific \n",
    "discounts applied based on the book's category. The program should take the original price of the book \n",
    "and its category as inputs and then calculate the final price after applying the discount. The discounts \n",
    "are as follows: \n",
    "Fiction books receive a 10% discount. \n",
    "Non-fiction books receive a 15% discount. \n",
    "Educational books receive a 20% discount. \n",
    "Comics receive a 5% discount. \n",
    "The program should handle the following requirements: \n",
    "\n",
    "The price of the book cannot be less than 5 Tk or more than 500 Tk. If the price is outside this \n",
    "range, print an appropriate message. \n",
    "\n",
    "If an invalid category is entered, print a message indicating the category is invalid. \n",
    "\n",
    "The program should output the final price of the book after applying the appropriate discount."
   ]
  },
  {
   "cell_type": "code",
   "execution_count": 30,
   "id": "3b102d98",
   "metadata": {},
   "outputs": [
    {
     "name": "stdout",
     "output_type": "stream",
     "text": [
      "Final price after discount: 109.8\n"
     ]
    }
   ],
   "source": [
    "price = float(input(\"Enter original book price: \"))\n",
    "category = input(\"Enter book category (Fiction, Non-fiction, Educational, Comics): \")\n",
    "\n",
    "if price < 5 or price > 500:\n",
    "    print(\"Invalid price. Price must be between 5 Tk and 500 Tk.\")\n",
    "else:\n",
    "    if category == \"Fiction\":\n",
    "        discount = price * 0.10\n",
    "    elif category == \"Non-fiction\":\n",
    "        discount = price * 0.15\n",
    "    elif category == \"Educational\":\n",
    "        discount = price * 0.20\n",
    "    elif category == \"Comics\":\n",
    "        discount = price * 0.05\n",
    "    else:\n",
    "        print(\"Invalid category.\")\n",
    "        discount = None\n",
    "\n",
    "    if discount is not None:\n",
    "        final_price = price - discount\n",
    "        print(\"Final price after discount:\", final_price)\n"
   ]
  },
  {
   "cell_type": "markdown",
   "id": "c0bfe8ac",
   "metadata": {},
   "source": [
    "Write a Python program that determines if a person is eligible to vote in an election. If the person is at least 18 years old and a high school graduate, they are eligible to vote. If the person is younger than 18 but at least 16 years old and currently in high school, they can vote only if they have parental consent. If the person is younger than 16, they are not eligible to vote.\n",
    "The first input should be an integer indicating the person’s age. If 18 or older, the next input should be a string (\"Yes\" or \"No\") indicating if they have a high school diploma. If under 18 but 16 or older, two inputs (both strings) should follow: whether they are in high school and if they have parental consent."
   ]
  },
  {
   "cell_type": "code",
   "execution_count": 31,
   "id": "dfdf56b1",
   "metadata": {},
   "outputs": [
    {
     "name": "stdout",
     "output_type": "stream",
     "text": [
      "Eligible\n"
     ]
    }
   ],
   "source": [
    "age = int(input(\"Age: \"))\n",
    "\n",
    "if age >= 18:\n",
    "    diploma = input(\"High School Diploma (Yes/No): \")\n",
    "    if diploma == \"Yes\":\n",
    "        print(\"Eligible\")\n",
    "    else:\n",
    "        print(\"Not Eligible\")\n",
    "\n",
    "elif 16 <= age < 18:\n",
    "    enrolled = input(\"Enrolled in High School (Yes/No): \")\n",
    "    consent = input(\"Parental Consent (Yes/No): \")\n",
    "    if enrolled == \"Yes\" and consent == \"Yes\":\n",
    "        print(\"Eligible\")\n",
    "    else:\n",
    "        print(\"Not Eligible\")\n",
    "\n",
    "else:\n",
    "    print(\"Not Eligible\")\n"
   ]
  }
 ],
 "metadata": {
  "kernelspec": {
   "display_name": "base",
   "language": "python",
   "name": "python3"
  },
  "language_info": {
   "codemirror_mode": {
    "name": "ipython",
    "version": 3
   },
   "file_extension": ".py",
   "mimetype": "text/x-python",
   "name": "python",
   "nbconvert_exporter": "python",
   "pygments_lexer": "ipython3",
   "version": "3.11.7"
  }
 },
 "nbformat": 4,
 "nbformat_minor": 5
}
